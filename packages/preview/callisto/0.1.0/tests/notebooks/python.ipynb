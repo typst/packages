{
 "cells": [
  {
   "cell_type": "markdown",
   "id": "0079e592-7ddd-4a92-9e0f-c7b7af8025c0",
   "metadata": {},
   "source": [
    "An empty cell:"
   ]
  },
  {
   "cell_type": "code",
   "execution_count": null,
   "id": "79988210-eb61-433d-b442-27f7792f5bec",
   "metadata": {},
   "outputs": [],
   "source": []
  },
  {
   "cell_type": "markdown",
   "id": "c7850784-ffba-42bc-a5b6-5d922d7cb769",
   "metadata": {},
   "source": [
    "Some print commands:"
   ]
  },
  {
   "cell_type": "code",
   "execution_count": 5,
   "id": "19cdb152-021b-4811-83de-3610ec97fc5b",
   "metadata": {},
   "outputs": [
    {
     "name": "stdout",
     "output_type": "stream",
     "text": [
      "Message 1\n",
      "Message 2\n"
     ]
    },
    {
     "name": "stderr",
     "output_type": "stream",
     "text": [
      "Error 1\n",
      "Error 2\n"
     ]
    }
   ],
   "source": [
    "import sys\n",
    "print('Error 1', file=sys.stderr)\n",
    "print('Message 1')\n",
    "print('Error 2', file=sys.stderr)\n",
    "print('Message 2')"
   ]
  },
  {
   "cell_type": "code",
   "execution_count": 6,
   "id": "4d6e404c-29d9-448c-9030-2d38e7dc054a",
   "metadata": {},
   "outputs": [
    {
     "name": "stderr",
     "output_type": "stream",
     "text": [
      "Error 1\n"
     ]
    },
    {
     "name": "stdout",
     "output_type": "stream",
     "text": [
      "Message 1\n"
     ]
    },
    {
     "name": "stderr",
     "output_type": "stream",
     "text": [
      "Error 2\n"
     ]
    },
    {
     "name": "stdout",
     "output_type": "stream",
     "text": [
      "Message 2\n"
     ]
    }
   ],
   "source": [
    "print('Error 1', file=sys.stderr, flush=True)\n",
    "print('Message 1', flush=True)\n",
    "print('Error 2', file=sys.stderr, flush=True)\n",
    "print('Message 2', flush=True)"
   ]
  },
  {
   "cell_type": "code",
   "execution_count": 4,
   "id": "81c5766c-d773-4777-8a4e-33c6ae36c044",
   "metadata": {},
   "outputs": [
    {
     "data": {
      "text/plain": [
       "1"
      ]
     },
     "execution_count": 4,
     "metadata": {},
     "output_type": "execute_result"
    },
    {
     "data": {
      "text/plain": [
       "2"
      ]
     },
     "execution_count": 4,
     "metadata": {},
     "output_type": "execute_result"
    }
   ],
   "source": [
    "sys.displayhook(1)\n",
    "2"
   ]
  },
  {
   "cell_type": "code",
   "execution_count": 10,
   "id": "dd4e2bd4-8bd3-4111-b513-4932cb312e24",
   "metadata": {},
   "outputs": [
    {
     "data": {
      "image/png": "[encoded data removed]",
      "text/plain": [
       "<IPython.core.display.Image object>"
      ]
     },
     "metadata": {
      "image/png": {
       "a": "x",
       "height": 10,
       "width": 10
      }
     },
     "output_type": "display_data"
    },
    {
     "name": "stdout",
     "output_type": "stream",
     "text": [
      "Text 1\n"
     ]
    },
    {
     "data": {
      "image/png": "[encoded data removed]",
      "text/plain": [
       "<IPython.core.display.Image object>"
      ]
     },
     "metadata": {
      "image/png": {
       "a": "x",
       "height": 10,
       "width": 10
      }
     },
     "output_type": "display_data"
    },
    {
     "name": "stdout",
     "output_type": "stream",
     "text": [
      "Text 2\n"
     ]
    }
   ],
   "source": [
    "from base64 import b64decode\n",
    "from IPython.display import Image, display\n",
    "img_data = b64decode('iVBORw0KGgoAAAANSUhEUgAAAAUAAAAFCAYAAACNbyblAAAAHElEQVQI12P4//8/w38GIAXDIBKE0DHxgljNBAAO9TXL0Y4OHwAAAABJRU5ErkJggg==')\n",
    "img = Image(img_data, width=10, height=10, metadata={\"a\": \"x\"})\n",
    "display(img, display_id=True); print('Text 1')\n",
    "display(img, display_id=True); print('Text 2')"
   ]
  }
 ],
 "metadata": {
  "kernelspec": {
   "display_name": "Python 3 (ipykernel)",
   "language": "python",
   "name": "python3"
  },
  "language_info": {
   "codemirror_mode": {
    "name": "ipython",
    "version": 3
   },
   "file_extension": ".py",
   "mimetype": "text/x-python",
   "name": "python",
   "nbconvert_exporter": "python",
   "pygments_lexer": "ipython3",
   "version": "3.10.12"
  }
 },
 "nbformat": 4,
 "nbformat_minor": 5
}
